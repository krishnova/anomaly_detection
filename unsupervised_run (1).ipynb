{
 "cells": [
  {
   "cell_type": "markdown",
   "metadata": {},
   "source": [
    "## UNSUPERVISED MACHINE LEARNING APPROACHES FOR MULTIVARIATE TIME SERIES ANOMALY DECTECTION\n",
    "\n",
    "In this project, we use unsupervised machine learing alogrithims to detect anomalous points and predict anomalies before they arise"
   ]
  },
  {
   "cell_type": "markdown",
   "metadata": {},
   "source": [
    "## End to End Project Approach \n",
    "1. Collecting Data \n",
    "2. Preparing Data \n",
    "    - Check if data set is labelled or not \n",
    "        if labled -- drop the labels \n",
    "        else proceed to next phase \n",
    "    - Check for NANS \n",
    "        if NANS exist - drop them \n",
    "        else proceed to next phase \n",
    "    - Standardizing Data \n",
    "         - if Deep learning approach used: standardize else proceed to next phase \n",
    "3. Modeling \n",
    "     - 2 Models will Detect anomalies in the whole data set \n",
    "     - 1 Model will detect anoamlies ina portion of the data set and use that to predict anoamalies in the rest of the data set \n",
    "4. Evaluation\n",
    "     - Exploring how does the number of outliers change as we vary the contamination hyperparamter in Isolation Forest and Local Outlier Factor \n",
    "     - Can we determine how \"accurate\" our Isolation Forest and Local Outlier Factor Model  is by feeding it labeled data and seeing True Positive, True Negative, False Positive, False Negative Results\n",
    "5. Deployment"
   ]
  },
  {
   "cell_type": "code",
   "execution_count": 2,
   "metadata": {},
   "outputs": [
    {
     "name": "stdout",
     "output_type": "stream",
     "text": [
      "Requirement already satisfied: ipynb in c:\\users\\sneeg\\anaconda3\\lib\\site-packages (0.5.1)\n",
      "Note: you may need to restart the kernel to use updated packages.\n"
     ]
    }
   ],
   "source": [
    "pip install ipynb"
   ]
  },
  {
   "cell_type": "markdown",
   "metadata": {},
   "source": [
    "### Importing Packages"
   ]
  },
  {
   "cell_type": "code",
   "execution_count": 1,
   "metadata": {},
   "outputs": [],
   "source": [
    "#Standard imports \n",
    "import pandas as pd \n",
    "import numpy as np\n",
    "import seaborn as sns\n",
    "import matplotlib.pyplot as plt\n",
    "import matplotlib\n",
    "from sklearn.preprocessing import StandardScaler \n",
    "\n",
    "from datetime import datetime\n",
    "\n",
    "import tensorflow as tf \n",
    "\n",
    "from tensorflow import keras \n",
    "import matplotlib.dates \n",
    "import datetime\n",
    "\n",
    "\n",
    "\n",
    "from sklearn.ensemble import IsolationForest\n",
    "from sklearn.cluster import KMeans\n",
    "from statsmodels.tsa.seasonal import seasonal_decompose\n",
    "from keras import Model\n",
    "\n",
    "from sklearn.neighbors import LocalOutlierFactor\n",
    "from sklearn.model_selection import train_test_split\n",
    "\n",
    "from sklearn.metrics import roc_auc_score\n",
    "from sklearn.metrics import precision_score #specificity\n",
    "from sklearn.metrics import recall_score #sensitivity"
   ]
  },
  {
   "cell_type": "code",
   "execution_count": 2,
   "metadata": {},
   "outputs": [],
   "source": [
    "# External Functions necessary for the rest of the pipeline \n",
    "\n",
    "from ipynb.fs.full.unsupervised_preprocess import clean, load_df\n",
    "from ipynb.fs.full.unsupervised_models import *\n",
    "from ipynb.fs.full.unsupervised_viz import *\n",
    "from ipynb.fs.full.datapipelines import *"
   ]
  },
  {
   "cell_type": "markdown",
   "metadata": {},
   "source": [
    "### 1. Loading and Cleaning the Data Set\n",
    "The original data set contains a device column and seven measurements taken by each of the three devices. We modified the data set to list the device numbers as columns, and used only one measurement value, carbon monoxide. Cleaning was done in unsupervised_clean.py"
   ]
  },
  {
   "cell_type": "code",
   "execution_count": 3,
   "metadata": {},
   "outputs": [],
   "source": [
    "#df = pd.read_csv(\"iot_telemetry.csv\")\n",
    "df = pd.read_csv(\"C:/users/sneeg/desktop/mareana/iot_telemetry_data.csv\")\n",
    "model_df = clean(df)"
   ]
  },
  {
   "cell_type": "code",
   "execution_count": 4,
   "metadata": {},
   "outputs": [
    {
     "data": {
      "text/html": [
       "<div>\n",
       "<style scoped>\n",
       "    .dataframe tbody tr th:only-of-type {\n",
       "        vertical-align: middle;\n",
       "    }\n",
       "\n",
       "    .dataframe tbody tr th {\n",
       "        vertical-align: top;\n",
       "    }\n",
       "\n",
       "    .dataframe thead th {\n",
       "        text-align: right;\n",
       "    }\n",
       "</style>\n",
       "<table border=\"1\" class=\"dataframe\">\n",
       "  <thead>\n",
       "    <tr style=\"text-align: right;\">\n",
       "      <th>device</th>\n",
       "      <th>1</th>\n",
       "      <th>2</th>\n",
       "      <th>3</th>\n",
       "    </tr>\n",
       "  </thead>\n",
       "  <tbody>\n",
       "    <tr>\n",
       "      <th>0</th>\n",
       "      <td>0.000000</td>\n",
       "      <td>0.000000</td>\n",
       "      <td>0.004956</td>\n",
       "    </tr>\n",
       "    <tr>\n",
       "      <th>1</th>\n",
       "      <td>0.002840</td>\n",
       "      <td>0.000000</td>\n",
       "      <td>0.000000</td>\n",
       "    </tr>\n",
       "    <tr>\n",
       "      <th>2</th>\n",
       "      <td>0.000000</td>\n",
       "      <td>0.000000</td>\n",
       "      <td>0.004976</td>\n",
       "    </tr>\n",
       "    <tr>\n",
       "      <th>3</th>\n",
       "      <td>0.000000</td>\n",
       "      <td>0.004403</td>\n",
       "      <td>0.000000</td>\n",
       "    </tr>\n",
       "    <tr>\n",
       "      <th>4</th>\n",
       "      <td>0.000000</td>\n",
       "      <td>0.000000</td>\n",
       "      <td>0.004967</td>\n",
       "    </tr>\n",
       "    <tr>\n",
       "      <th>...</th>\n",
       "      <td>...</td>\n",
       "      <td>...</td>\n",
       "      <td>...</td>\n",
       "    </tr>\n",
       "    <tr>\n",
       "      <th>405179</th>\n",
       "      <td>0.003745</td>\n",
       "      <td>0.000000</td>\n",
       "      <td>0.000000</td>\n",
       "    </tr>\n",
       "    <tr>\n",
       "      <th>405180</th>\n",
       "      <td>0.000000</td>\n",
       "      <td>0.000000</td>\n",
       "      <td>0.005882</td>\n",
       "    </tr>\n",
       "    <tr>\n",
       "      <th>405181</th>\n",
       "      <td>0.000000</td>\n",
       "      <td>0.004540</td>\n",
       "      <td>0.000000</td>\n",
       "    </tr>\n",
       "    <tr>\n",
       "      <th>405182</th>\n",
       "      <td>0.003745</td>\n",
       "      <td>0.000000</td>\n",
       "      <td>0.000000</td>\n",
       "    </tr>\n",
       "    <tr>\n",
       "      <th>405183</th>\n",
       "      <td>0.000000</td>\n",
       "      <td>0.000000</td>\n",
       "      <td>0.005914</td>\n",
       "    </tr>\n",
       "  </tbody>\n",
       "</table>\n",
       "<p>405184 rows × 3 columns</p>\n",
       "</div>"
      ],
      "text/plain": [
       "device         1         2         3\n",
       "0       0.000000  0.000000  0.004956\n",
       "1       0.002840  0.000000  0.000000\n",
       "2       0.000000  0.000000  0.004976\n",
       "3       0.000000  0.004403  0.000000\n",
       "4       0.000000  0.000000  0.004967\n",
       "...          ...       ...       ...\n",
       "405179  0.003745  0.000000  0.000000\n",
       "405180  0.000000  0.000000  0.005882\n",
       "405181  0.000000  0.004540  0.000000\n",
       "405182  0.003745  0.000000  0.000000\n",
       "405183  0.000000  0.000000  0.005914\n",
       "\n",
       "[405184 rows x 3 columns]"
      ]
     },
     "execution_count": 4,
     "metadata": {},
     "output_type": "execute_result"
    }
   ],
   "source": [
    "model_df"
   ]
  },
  {
   "cell_type": "markdown",
   "metadata": {},
   "source": [
    "### 2. Data Vizualizations - Preliminary Glance at the Data\n",
    "\n",
    "**need to fill this out"
   ]
  },
  {
   "cell_type": "code",
   "execution_count": 6,
   "metadata": {},
   "outputs": [
    {
     "name": "stdout",
     "output_type": "stream",
     "text": [
      "<class 'pandas.core.frame.DataFrame'>\n",
      "RangeIndex: 405184 entries, 0 to 405183\n",
      "Data columns (total 10 columns):\n",
      " #   Column     Non-Null Count   Dtype         \n",
      "---  ------     --------------   -----         \n",
      " 0   ts         405184 non-null  float64       \n",
      " 1   device     405184 non-null  object        \n",
      " 2   co         405184 non-null  float64       \n",
      " 3   humidity   405184 non-null  float64       \n",
      " 4   light      405184 non-null  bool          \n",
      " 5   lpg        405184 non-null  float64       \n",
      " 6   motion     405184 non-null  bool          \n",
      " 7   smoke      405184 non-null  float64       \n",
      " 8   temp       405184 non-null  float64       \n",
      " 9   timestamp  405184 non-null  datetime64[ns]\n",
      "dtypes: bool(2), datetime64[ns](1), float64(6), object(1)\n",
      "memory usage: 25.5+ MB\n"
     ]
    }
   ],
   "source": [
    "df.info()"
   ]
  },
  {
   "cell_type": "code",
   "execution_count": null,
   "metadata": {},
   "outputs": [],
   "source": []
  },
  {
   "cell_type": "markdown",
   "metadata": {},
   "source": [
    "### 3. Unsupervised Learning\n",
    "   \n",
    "   Scripts are included in unsupervised_model.py, unsupervised_viz.py. We bring necessary methods in this file to run. \n",
    "   \n",
    "   Models: \n",
    "\n",
    "    - Tree Based Isolation Forest\n",
    "    - Cluster Based Local Outlier Factor \n",
    "    - Deep Learning Based LSTM Autoencoder"
   ]
  },
  {
   "cell_type": "code",
   "execution_count": 35,
   "metadata": {},
   "outputs": [
    {
     "name": "stdout",
     "output_type": "stream",
     "text": [
      "Contamination : 0.01\n",
      "Data device         1         2         3    scores  anomaly  contamination\n",
      "0       0.000000  0.000000  0.004956  0.241790        1           0.01\n",
      "1       0.002840  0.000000  0.000000  0.248122        1           0.01\n",
      "2       0.000000  0.000000  0.004976  0.257394        1           0.01\n",
      "3       0.000000  0.004403  0.000000  0.185811        1           0.01\n",
      "4       0.000000  0.000000  0.004967  0.248486        1           0.01\n",
      "...          ...       ...       ...       ...      ...            ...\n",
      "405179  0.003745  0.000000  0.000000  0.239602        1           0.01\n",
      "405180  0.000000  0.000000  0.005882  0.266338        1           0.01\n",
      "405181  0.000000  0.004540  0.000000  0.195685        1           0.01\n",
      "405182  0.003745  0.000000  0.000000  0.239602        1           0.01\n",
      "405183  0.000000  0.000000  0.005914  0.261905        1           0.01\n",
      "\n",
      "[405184 rows x 6 columns]\n",
      "Contamination : 0.02\n",
      "Data device         1         2         3    scores  anomaly  contamination\n",
      "0       0.000000  0.000000  0.004956  0.202001        1           0.02\n",
      "1       0.002840  0.000000  0.000000  0.208334        1           0.02\n",
      "2       0.000000  0.000000  0.004976  0.217605        1           0.02\n",
      "3       0.000000  0.004403  0.000000  0.146023        1           0.02\n",
      "4       0.000000  0.000000  0.004967  0.208698        1           0.02\n",
      "...          ...       ...       ...       ...      ...            ...\n",
      "405179  0.003745  0.000000  0.000000  0.199813        1           0.02\n",
      "405180  0.000000  0.000000  0.005882  0.226549        1           0.02\n",
      "405181  0.000000  0.004540  0.000000  0.155896        1           0.02\n",
      "405182  0.003745  0.000000  0.000000  0.199813        1           0.02\n",
      "405183  0.000000  0.000000  0.005914  0.222116        1           0.02\n",
      "\n",
      "[405184 rows x 6 columns]\n",
      "Contamination : 0.05\n",
      "Data device         1         2         3    scores  anomaly  contamination\n",
      "0       0.000000  0.000000  0.004956  0.128988        1           0.05\n",
      "1       0.002840  0.000000  0.000000  0.135321        1           0.05\n",
      "2       0.000000  0.000000  0.004976  0.144592        1           0.05\n",
      "3       0.000000  0.004403  0.000000  0.073010        1           0.05\n",
      "4       0.000000  0.000000  0.004967  0.135685        1           0.05\n",
      "...          ...       ...       ...       ...      ...            ...\n",
      "405179  0.003745  0.000000  0.000000  0.126801        1           0.05\n",
      "405180  0.000000  0.000000  0.005882  0.153537        1           0.05\n",
      "405181  0.000000  0.004540  0.000000  0.082883        1           0.05\n",
      "405182  0.003745  0.000000  0.000000  0.126801        1           0.05\n",
      "405183  0.000000  0.000000  0.005914  0.149104        1           0.05\n",
      "\n",
      "[405184 rows x 6 columns]\n",
      "Contamination : 0.1\n",
      "Data device         1         2         3    scores  anomaly  contamination\n",
      "0       0.000000  0.000000  0.004956  0.086935        1            0.1\n",
      "1       0.002840  0.000000  0.000000  0.093268        1            0.1\n",
      "2       0.000000  0.000000  0.004976  0.102539        1            0.1\n",
      "3       0.000000  0.004403  0.000000  0.030957        1            0.1\n",
      "4       0.000000  0.000000  0.004967  0.093632        1            0.1\n",
      "...          ...       ...       ...       ...      ...            ...\n",
      "405179  0.003745  0.000000  0.000000  0.084748        1            0.1\n",
      "405180  0.000000  0.000000  0.005882  0.111484        1            0.1\n",
      "405181  0.000000  0.004540  0.000000  0.040830        1            0.1\n",
      "405182  0.003745  0.000000  0.000000  0.084748        1            0.1\n",
      "405183  0.000000  0.000000  0.005914  0.107051        1            0.1\n",
      "\n",
      "[405184 rows x 6 columns]\n"
     ]
    }
   ],
   "source": [
    "#Isolation Forest Model \n",
    "\n",
    "#CONTAMINATION HYPERPARAMETER\n",
    "contamination = [0.01, 0.02, 0.05, 0.1]\n",
    "\n",
    "#STORING DATA FRAMES FOR EACH HYPERPARAMTER IN A LIST \n",
    "\n",
    "IF_DataFrames = []\n",
    "\n",
    "\n",
    "for val in contamination: \n",
    "    #print(\"Contamination :\", val)\n",
    "    model_df = isolation_forest(model_df, val)\n",
    "    #print(\"Data\",model_df)\n",
    "    IF_DataFrames.append(model_df)\n",
    "    model_df = model_df.drop(['anomaly','scores','contamination'], axis = 1)\n",
    "   "
   ]
  },
  {
   "cell_type": "code",
   "execution_count": 37,
   "metadata": {},
   "outputs": [
    {
     "name": "stdout",
     "output_type": "stream",
     "text": [
      "Contamination : 0.01\n",
      "Data device         1         2         3  anomaly  contamination\n",
      "0       0.000000  0.000000  0.004956        1           0.01\n",
      "1       0.002840  0.000000  0.000000        1           0.01\n",
      "2       0.000000  0.000000  0.004976        1           0.01\n",
      "3       0.000000  0.004403  0.000000        1           0.01\n",
      "4       0.000000  0.000000  0.004967        1           0.01\n",
      "...          ...       ...       ...      ...            ...\n",
      "405179  0.003745  0.000000  0.000000        1           0.01\n",
      "405180  0.000000  0.000000  0.005882        1           0.01\n",
      "405181  0.000000  0.004540  0.000000        1           0.01\n",
      "405182  0.003745  0.000000  0.000000        1           0.01\n",
      "405183  0.000000  0.000000  0.005914        1           0.01\n",
      "\n",
      "[405184 rows x 5 columns]\n",
      "Contamination : 0.02\n",
      "Data device         1         2         3  anomaly  contamination\n",
      "0       0.000000  0.000000  0.004956        1           0.02\n",
      "1       0.002840  0.000000  0.000000        1           0.02\n",
      "2       0.000000  0.000000  0.004976        1           0.02\n",
      "3       0.000000  0.004403  0.000000        1           0.02\n",
      "4       0.000000  0.000000  0.004967        1           0.02\n",
      "...          ...       ...       ...      ...            ...\n",
      "405179  0.003745  0.000000  0.000000        1           0.02\n",
      "405180  0.000000  0.000000  0.005882        1           0.02\n",
      "405181  0.000000  0.004540  0.000000        1           0.02\n",
      "405182  0.003745  0.000000  0.000000        1           0.02\n",
      "405183  0.000000  0.000000  0.005914        1           0.02\n",
      "\n",
      "[405184 rows x 5 columns]\n",
      "Contamination : 0.05\n",
      "Data device         1         2         3  anomaly  contamination\n",
      "0       0.000000  0.000000  0.004956        1           0.05\n",
      "1       0.002840  0.000000  0.000000        1           0.05\n",
      "2       0.000000  0.000000  0.004976        1           0.05\n",
      "3       0.000000  0.004403  0.000000        1           0.05\n",
      "4       0.000000  0.000000  0.004967        1           0.05\n",
      "...          ...       ...       ...      ...            ...\n",
      "405179  0.003745  0.000000  0.000000        1           0.05\n",
      "405180  0.000000  0.000000  0.005882        1           0.05\n",
      "405181  0.000000  0.004540  0.000000        1           0.05\n",
      "405182  0.003745  0.000000  0.000000        1           0.05\n",
      "405183  0.000000  0.000000  0.005914        1           0.05\n",
      "\n",
      "[405184 rows x 5 columns]\n",
      "Contamination : 0.1\n",
      "Data device         1         2         3  anomaly  contamination\n",
      "0       0.000000  0.000000  0.004956        1            0.1\n",
      "1       0.002840  0.000000  0.000000        1            0.1\n",
      "2       0.000000  0.000000  0.004976        1            0.1\n",
      "3       0.000000  0.004403  0.000000        1            0.1\n",
      "4       0.000000  0.000000  0.004967        1            0.1\n",
      "...          ...       ...       ...      ...            ...\n",
      "405179  0.003745  0.000000  0.000000        1            0.1\n",
      "405180  0.000000  0.000000  0.005882        1            0.1\n",
      "405181  0.000000  0.004540  0.000000        1            0.1\n",
      "405182  0.003745  0.000000  0.000000        1            0.1\n",
      "405183  0.000000  0.000000  0.005914        1            0.1\n",
      "\n",
      "[405184 rows x 5 columns]\n"
     ]
    }
   ],
   "source": [
    "#Local Outlier Factor Model\n",
    "contamination = [0.01, 0.02, 0.05, 0.1]\n",
    "#STORING DATA FRAMES FOR EACH HYPERPARAMETER IN A LIST \n",
    "LOF_DataFrames = []\n",
    "for val in contamination: \n",
    "    print(\"Contamination :\", val)\n",
    "    model_df = local_outlier_factor(model_df, val)\n",
    "    print(\"Data\",model_df)\n",
    "    LOF_DataFrames.append(model_df)\n",
    "    model_df = model_df.drop(['anomaly', 'contamination'], axis = 1)\n",
    "    \n"
   ]
  },
  {
   "cell_type": "code",
   "execution_count": 23,
   "metadata": {},
   "outputs": [
    {
     "ename": "KeyError",
     "evalue": "'loss_mae'",
     "output_type": "error",
     "traceback": [
      "\u001b[1;31m---------------------------------------------------------------------------\u001b[0m",
      "\u001b[1;31mKeyError\u001b[0m                                  Traceback (most recent call last)",
      "\u001b[1;32m~\\anaconda3\\lib\\site-packages\\pandas\\core\\indexes\\base.py\u001b[0m in \u001b[0;36mget_loc\u001b[1;34m(self, key, method, tolerance)\u001b[0m\n\u001b[0;32m   3079\u001b[0m             \u001b[1;32mtry\u001b[0m\u001b[1;33m:\u001b[0m\u001b[1;33m\u001b[0m\u001b[1;33m\u001b[0m\u001b[0m\n\u001b[1;32m-> 3080\u001b[1;33m                 \u001b[1;32mreturn\u001b[0m \u001b[0mself\u001b[0m\u001b[1;33m.\u001b[0m\u001b[0m_engine\u001b[0m\u001b[1;33m.\u001b[0m\u001b[0mget_loc\u001b[0m\u001b[1;33m(\u001b[0m\u001b[0mcasted_key\u001b[0m\u001b[1;33m)\u001b[0m\u001b[1;33m\u001b[0m\u001b[1;33m\u001b[0m\u001b[0m\n\u001b[0m\u001b[0;32m   3081\u001b[0m             \u001b[1;32mexcept\u001b[0m \u001b[0mKeyError\u001b[0m \u001b[1;32mas\u001b[0m \u001b[0merr\u001b[0m\u001b[1;33m:\u001b[0m\u001b[1;33m\u001b[0m\u001b[1;33m\u001b[0m\u001b[0m\n",
      "\u001b[1;32mpandas\\_libs\\index.pyx\u001b[0m in \u001b[0;36mpandas._libs.index.IndexEngine.get_loc\u001b[1;34m()\u001b[0m\n",
      "\u001b[1;32mpandas\\_libs\\index.pyx\u001b[0m in \u001b[0;36mpandas._libs.index.IndexEngine.get_loc\u001b[1;34m()\u001b[0m\n",
      "\u001b[1;32mpandas\\_libs\\hashtable_class_helper.pxi\u001b[0m in \u001b[0;36mpandas._libs.hashtable.PyObjectHashTable.get_item\u001b[1;34m()\u001b[0m\n",
      "\u001b[1;32mpandas\\_libs\\hashtable_class_helper.pxi\u001b[0m in \u001b[0;36mpandas._libs.hashtable.PyObjectHashTable.get_item\u001b[1;34m()\u001b[0m\n",
      "\u001b[1;31mKeyError\u001b[0m: 'loss_mae'",
      "\nThe above exception was the direct cause of the following exception:\n",
      "\u001b[1;31mKeyError\u001b[0m                                  Traceback (most recent call last)",
      "\u001b[1;32m<ipython-input-23-0e4ee285f29f>\u001b[0m in \u001b[0;36m<module>\u001b[1;34m\u001b[0m\n\u001b[0;32m      1\u001b[0m \u001b[0mplt\u001b[0m\u001b[1;33m.\u001b[0m\u001b[0mfigure\u001b[0m\u001b[1;33m(\u001b[0m\u001b[0mfigsize\u001b[0m\u001b[1;33m=\u001b[0m\u001b[1;33m(\u001b[0m\u001b[1;36m16\u001b[0m\u001b[1;33m,\u001b[0m\u001b[1;36m9\u001b[0m\u001b[1;33m)\u001b[0m\u001b[1;33m,\u001b[0m \u001b[0mdpi\u001b[0m \u001b[1;33m=\u001b[0m \u001b[1;36m80\u001b[0m\u001b[1;33m)\u001b[0m\u001b[1;33m\u001b[0m\u001b[1;33m\u001b[0m\u001b[0m\n\u001b[1;32m----> 2\u001b[1;33m \u001b[0msns\u001b[0m\u001b[1;33m.\u001b[0m\u001b[0mdisplot\u001b[0m\u001b[1;33m(\u001b[0m\u001b[0mmodel_df\u001b[0m\u001b[1;33m[\u001b[0m\u001b[1;34m'loss_mae'\u001b[0m\u001b[1;33m]\u001b[0m\u001b[1;33m,\u001b[0m \u001b[0mkde\u001b[0m \u001b[1;33m=\u001b[0m \u001b[1;32mTrue\u001b[0m\u001b[1;33m)\u001b[0m\u001b[1;33m\u001b[0m\u001b[1;33m\u001b[0m\u001b[0m\n\u001b[0m",
      "\u001b[1;32m~\\anaconda3\\lib\\site-packages\\pandas\\core\\frame.py\u001b[0m in \u001b[0;36m__getitem__\u001b[1;34m(self, key)\u001b[0m\n\u001b[0;32m   3022\u001b[0m             \u001b[1;32mif\u001b[0m \u001b[0mself\u001b[0m\u001b[1;33m.\u001b[0m\u001b[0mcolumns\u001b[0m\u001b[1;33m.\u001b[0m\u001b[0mnlevels\u001b[0m \u001b[1;33m>\u001b[0m \u001b[1;36m1\u001b[0m\u001b[1;33m:\u001b[0m\u001b[1;33m\u001b[0m\u001b[1;33m\u001b[0m\u001b[0m\n\u001b[0;32m   3023\u001b[0m                 \u001b[1;32mreturn\u001b[0m \u001b[0mself\u001b[0m\u001b[1;33m.\u001b[0m\u001b[0m_getitem_multilevel\u001b[0m\u001b[1;33m(\u001b[0m\u001b[0mkey\u001b[0m\u001b[1;33m)\u001b[0m\u001b[1;33m\u001b[0m\u001b[1;33m\u001b[0m\u001b[0m\n\u001b[1;32m-> 3024\u001b[1;33m             \u001b[0mindexer\u001b[0m \u001b[1;33m=\u001b[0m \u001b[0mself\u001b[0m\u001b[1;33m.\u001b[0m\u001b[0mcolumns\u001b[0m\u001b[1;33m.\u001b[0m\u001b[0mget_loc\u001b[0m\u001b[1;33m(\u001b[0m\u001b[0mkey\u001b[0m\u001b[1;33m)\u001b[0m\u001b[1;33m\u001b[0m\u001b[1;33m\u001b[0m\u001b[0m\n\u001b[0m\u001b[0;32m   3025\u001b[0m             \u001b[1;32mif\u001b[0m \u001b[0mis_integer\u001b[0m\u001b[1;33m(\u001b[0m\u001b[0mindexer\u001b[0m\u001b[1;33m)\u001b[0m\u001b[1;33m:\u001b[0m\u001b[1;33m\u001b[0m\u001b[1;33m\u001b[0m\u001b[0m\n\u001b[0;32m   3026\u001b[0m                 \u001b[0mindexer\u001b[0m \u001b[1;33m=\u001b[0m \u001b[1;33m[\u001b[0m\u001b[0mindexer\u001b[0m\u001b[1;33m]\u001b[0m\u001b[1;33m\u001b[0m\u001b[1;33m\u001b[0m\u001b[0m\n",
      "\u001b[1;32m~\\anaconda3\\lib\\site-packages\\pandas\\core\\indexes\\base.py\u001b[0m in \u001b[0;36mget_loc\u001b[1;34m(self, key, method, tolerance)\u001b[0m\n\u001b[0;32m   3080\u001b[0m                 \u001b[1;32mreturn\u001b[0m \u001b[0mself\u001b[0m\u001b[1;33m.\u001b[0m\u001b[0m_engine\u001b[0m\u001b[1;33m.\u001b[0m\u001b[0mget_loc\u001b[0m\u001b[1;33m(\u001b[0m\u001b[0mcasted_key\u001b[0m\u001b[1;33m)\u001b[0m\u001b[1;33m\u001b[0m\u001b[1;33m\u001b[0m\u001b[0m\n\u001b[0;32m   3081\u001b[0m             \u001b[1;32mexcept\u001b[0m \u001b[0mKeyError\u001b[0m \u001b[1;32mas\u001b[0m \u001b[0merr\u001b[0m\u001b[1;33m:\u001b[0m\u001b[1;33m\u001b[0m\u001b[1;33m\u001b[0m\u001b[0m\n\u001b[1;32m-> 3082\u001b[1;33m                 \u001b[1;32mraise\u001b[0m \u001b[0mKeyError\u001b[0m\u001b[1;33m(\u001b[0m\u001b[0mkey\u001b[0m\u001b[1;33m)\u001b[0m \u001b[1;32mfrom\u001b[0m \u001b[0merr\u001b[0m\u001b[1;33m\u001b[0m\u001b[1;33m\u001b[0m\u001b[0m\n\u001b[0m\u001b[0;32m   3083\u001b[0m \u001b[1;33m\u001b[0m\u001b[0m\n\u001b[0;32m   3084\u001b[0m         \u001b[1;32mif\u001b[0m \u001b[0mtolerance\u001b[0m \u001b[1;32mis\u001b[0m \u001b[1;32mnot\u001b[0m \u001b[1;32mNone\u001b[0m\u001b[1;33m:\u001b[0m\u001b[1;33m\u001b[0m\u001b[1;33m\u001b[0m\u001b[0m\n",
      "\u001b[1;31mKeyError\u001b[0m: 'loss_mae'"
     ]
    },
    {
     "data": {
      "text/plain": [
       "<Figure size 1280x720 with 0 Axes>"
      ]
     },
     "metadata": {},
     "output_type": "display_data"
    }
   ],
   "source": []
  },
  {
   "cell_type": "code",
   "execution_count": null,
   "metadata": {},
   "outputs": [],
   "source": []
  },
  {
   "cell_type": "code",
   "execution_count": 68,
   "metadata": {},
   "outputs": [],
   "source": [
    "#PERFORMING TRAIN TEST SPLIT NEEDED FOR LSTM \n",
    "\n",
    "train,test = train_test_split(model_df, test_size =  0.10, shuffle = False)"
   ]
  },
  {
   "cell_type": "code",
   "execution_count": 69,
   "metadata": {},
   "outputs": [],
   "source": [
    "#RNN LSTM Autoencoder Model \n",
    "scaler = StandardScaler()\n",
    "trainX = scaler.fit_transform(train)\n",
    "\n",
    "\n",
    "testX= scaler.transform(test)\n",
    "\n",
    "#reshpaping inputs\n",
    "trainX = trainX.reshape(trainX.shape[0],1,trainX.shape[1])\n",
    "testX = testX.reshape(testX.shape[0],1,testX.shape[1])"
   ]
  },
  {
   "cell_type": "code",
   "execution_count": 70,
   "metadata": {},
   "outputs": [
    {
     "data": {
      "text/plain": [
       "(364665, 1, 3)"
      ]
     },
     "execution_count": 70,
     "metadata": {},
     "output_type": "execute_result"
    }
   ],
   "source": [
    "trainX.shape"
   ]
  },
  {
   "cell_type": "code",
   "execution_count": 71,
   "metadata": {},
   "outputs": [
    {
     "name": "stdout",
     "output_type": "stream",
     "text": [
      "Model: \"sequential_4\"\n",
      "_________________________________________________________________\n",
      "Layer (type)                 Output Shape              Param #   \n",
      "=================================================================\n",
      "lstm_16 (LSTM)               (None, 1, 25)             2900      \n",
      "_________________________________________________________________\n",
      "lstm_17 (LSTM)               (None, 50)                15200     \n",
      "_________________________________________________________________\n",
      "repeat_vector_4 (RepeatVecto (None, 1, 50)             0         \n",
      "_________________________________________________________________\n",
      "lstm_18 (LSTM)               (None, 1, 50)             20200     \n",
      "_________________________________________________________________\n",
      "lstm_19 (LSTM)               (None, 1, 25)             7600      \n",
      "_________________________________________________________________\n",
      "time_distributed_4 (TimeDist (None, 1, 3)              78        \n",
      "=================================================================\n",
      "Total params: 45,978\n",
      "Trainable params: 45,978\n",
      "Non-trainable params: 0\n",
      "_________________________________________________________________\n"
     ]
    }
   ],
   "source": [
    "model = autoencoder(trainX)\n",
    "model.compile(optimizer = \"adam\", loss = \"mae\")\n",
    "model.summary()"
   ]
  },
  {
   "cell_type": "markdown",
   "metadata": {},
   "source": [
    "Summary of our LSTM Autoencoder Model. Implemented in unsupervised_models.py. Sequential model with 6 layers. "
   ]
  },
  {
   "cell_type": "code",
   "execution_count": 72,
   "metadata": {},
   "outputs": [
    {
     "name": "stdout",
     "output_type": "stream",
     "text": [
      "Epoch 1/10\n",
      "1283/1283 [==============================] - 16s 9ms/step - loss: 0.1193 - val_loss: 0.1097\n",
      "Epoch 2/10\n",
      "1283/1283 [==============================] - 11s 8ms/step - loss: 0.0333 - val_loss: 0.0925\n",
      "Epoch 3/10\n",
      "1283/1283 [==============================] - 9s 7ms/step - loss: 0.0256 - val_loss: 0.0775\n",
      "Epoch 4/10\n",
      "1283/1283 [==============================] - 9s 7ms/step - loss: 0.0205 - val_loss: 0.0679\n",
      "Epoch 5/10\n",
      "1283/1283 [==============================] - 9s 7ms/step - loss: 0.0178 - val_loss: 0.0641\n",
      "Epoch 6/10\n",
      "1283/1283 [==============================] - 9s 7ms/step - loss: 0.0161 - val_loss: 0.0551\n",
      "Epoch 7/10\n",
      "1283/1283 [==============================] - 10s 8ms/step - loss: 0.0143 - val_loss: 0.0517\n",
      "Epoch 8/10\n",
      "1283/1283 [==============================] - 10s 7ms/step - loss: 0.0139 - val_loss: 0.0404\n",
      "Epoch 9/10\n",
      "1283/1283 [==============================] - 11s 9ms/step - loss: 0.0120 - val_loss: 0.0432\n",
      "Epoch 10/10\n",
      "1283/1283 [==============================] - 11s 8ms/step - loss: 0.0120 - val_loss: 0.0419\n"
     ]
    }
   ],
   "source": [
    "#MODEL HISTORY \n",
    "history = model.fit(trainX, trainX, epochs = 10, batch_size= 256, validation_split= 0.1, verbose = 1, shuffle=False).history"
   ]
  },
  {
   "cell_type": "code",
   "execution_count": 73,
   "metadata": {},
   "outputs": [
    {
     "data": {
      "image/png": "[encoded data removed]",
      "text/plain": [
       "<Figure size 1120x480 with 1 Axes>"
      ]
     },
     "metadata": {
      "needs_background": "light"
     },
     "output_type": "display_data"
    }
   ],
   "source": [
    "#MODEL LOSS CURVE \n",
    "\n",
    "model_loss(history)"
   ]
  },
  {
   "cell_type": "markdown",
   "metadata": {},
   "source": [
    "Model Loss Curve. The loss curve is not a perfect good fit model, but it is the closest we could get with the LSTM. To achieve this, we increased our training set to 90% from the starting point of 67%. This moved our model from being underfit to good fit."
   ]
  },
  {
   "cell_type": "code",
   "execution_count": 74,
   "metadata": {},
   "outputs": [
    {
     "data": {
      "text/plain": [
       "<seaborn.axisgrid.FacetGrid at 0x23260244f10>"
      ]
     },
     "execution_count": 74,
     "metadata": {},
     "output_type": "execute_result"
    },
    {
     "data": {
      "text/plain": [
       "<Figure size 1280x720 with 0 Axes>"
      ]
     },
     "metadata": {},
     "output_type": "display_data"
    },
    {
     "data": {
      "image/png": "[encoded data removed]",
      "text/plain": [
       "<Figure size 360x360 with 1 Axes>"
      ]
     },
     "metadata": {
      "needs_background": "light"
     },
     "output_type": "display_data"
    }
   ],
   "source": [
    "#PREDICTING ON TRAIN DATA, RESHAPE INPUTS\n",
    "X_pred = model.predict(trainX)\n",
    "X_pred = X_pred.reshape(X_pred.shape[0], X_pred.shape[2])\n",
    "X_pred = pd.DataFrame(X_pred, columns = train.columns)\n",
    "X_pred.index = train.index\n",
    "\n",
    "\n",
    "scored = pd.DataFrame(index = train.index)\n",
    "Xtrain = trainX.reshape(trainX.shape[0], trainX.shape[2])\n",
    "scored['loss_mae'] = np.mean(np.abs(X_pred- Xtrain), axis = 1) \n",
    "\n",
    "#VIZUALIZATION\n"
   ]
  },
  {
   "cell_type": "markdown",
   "metadata": {},
   "source": [
    "From this plot, we determined that a threshold value for an anomaly is 0.25. "
   ]
  },
  {
   "cell_type": "code",
   "execution_count": 75,
   "metadata": {},
   "outputs": [],
   "source": [
    "#Continuing with rest of model \n",
    "X_pred = model.predict(testX)\n",
    "X_pred = X_pred.reshape(X_pred.shape[0], X_pred.shape[2])\n",
    "X_pred = pd.DataFrame(X_pred, columns=test.columns)\n",
    "X_pred.index = test.index\n",
    "\n",
    "scored = pd.DataFrame(index = test.index)\n",
    "\n",
    "Xtest = testX.reshape(testX.shape[0], testX.shape[2])\n",
    "\n",
    "scored['loss_mae'] = np.mean(np.abs(X_pred-Xtest), axis = 1)\n",
    "\n",
    "scored['threshold'] = 0.25\n",
    "scored['anomaly'] = scored['loss_mae'] > scored['threshold']\n",
    "\n",
    "X_pred_train = model.predict(trainX)\n",
    "X_pred_train = X_pred_train.reshape(X_pred_train.shape[0], X_pred_train.shape[2])\n",
    "\n",
    "X_pred_train = pd.DataFrame(X_pred_train, columns = train.columns)\n",
    "\n",
    "X_pred_train.index = train.index\n",
    "\n",
    "scored_train= pd.DataFrame(index = train.index)\n",
    "\n",
    "scored_train['loss_mae'] = np.mean(np.abs(X_pred_train - Xtrain), axis =1)\n",
    "\n",
    "scored_train['threshold'] = 0.25\n",
    "scored_train['anomaly']= scored_train['loss_mae'] > scored_train['threshold']\n",
    "\n",
    "scored = pd.concat([scored_train, scored])\n",
    "    "
   ]
  },
  {
   "cell_type": "code",
   "execution_count": 76,
   "metadata": {},
   "outputs": [
    {
     "data": {
      "image/png": "[encoded data removed]",
      "text/plain": [
       "<Figure size 432x288 with 1 Axes>"
      ]
     },
     "metadata": {
      "needs_background": "light"
     },
     "output_type": "display_data"
    }
   ],
   "source": [
    "#PLOT THRESHOLD FOR WHAT IS CONSIDERED AN ANOMALY. \n",
    "\n",
    "plot_threshold(scored)"
   ]
  },
  {
   "cell_type": "markdown",
   "metadata": {
    "colab": {
     "base_uri": "https://localhost:8080/",
     "height": 387
    },
    "executionInfo": {
     "elapsed": 24,
     "status": "error",
     "timestamp": 1625676959349,
     "user": {
      "displayName": "roma paranjpe",
      "photoUrl": "",
      "userId": "01373635016594731266"
     },
     "user_tz": 240
    },
    "id": "luYSHqBS4Nd2",
    "outputId": "33bc7df5-acdf-46b4-e7a9-ac3c1e1a0f84"
   },
   "source": [
    "### 4. Model Evaluation: Unsupervised Learning on a Labeled Data Set \n",
    "\n",
    "    Here, we test the performance of the Isolation Forest and Local Outlier Factor Models by training them on the labeled pump sensor data set. We go through preprocessing and data preperation, and then fit the models on the data set. We use a a fixed contamination hyperparameter value of 0.1 As an evaluation metric, we create a confusion matrix to analyze the predicted anomalies flagged vs the actual anoamlies flagged. This gives an idea as to how accurate our unsupervised techniques are. \n",
    "  .\n",
    "    \n",
    "    \n",
    "    \n",
    "\n",
    "    \n",
    "    \n",
    " "
   ]
  },
  {
   "cell_type": "code",
   "execution_count": 77,
   "metadata": {},
   "outputs": [],
   "source": [
    "labeled_data = pd.read_csv(\"sensor.csv\")"
   ]
  },
  {
   "cell_type": "code",
   "execution_count": 78,
   "metadata": {},
   "outputs": [],
   "source": [
    "labeled_data =pump_remove_nans(labeled_data)"
   ]
  },
  {
   "cell_type": "code",
   "execution_count": 79,
   "metadata": {},
   "outputs": [],
   "source": [
    "labeled_data = labeled_data.fillna(method='ffill')\n",
    "labeled_data =add_prebroken(labeled_data)"
   ]
  },
  {
   "cell_type": "code",
   "execution_count": 80,
   "metadata": {},
   "outputs": [],
   "source": [
    "datamat=labeled_data.iloc[:,0:labeled_data.shape[1]-2]\n",
    "normdata=normalize_data(datamat)\n",
    "labeled_data.iloc[:,0:labeled_data.shape[1]-2]=normdata"
   ]
  },
  {
   "cell_type": "code",
   "execution_count": 81,
   "metadata": {},
   "outputs": [],
   "source": [
    "#combining anomalies, as BROKEN or RECOVERING are both anomalies compared to NORMAL\n",
    "labled_data=combine_anomalies(labeled_data)\n",
    "labeled_data['machine_status']=labeled_data['machine_status'].apply(lambda x: 1 if x==\"NORMAL\" else -1)\n",
    "pcadata=pca_data(labeled_data.iloc[:,1:labeled_data.shape[1]-2],ncomps=2)\n",
    "#print('Extending to include past datapoints...')\n",
    "ntp=50\n",
    "data=pcadata"
   ]
  },
  {
   "cell_type": "code",
   "execution_count": 82,
   "metadata": {},
   "outputs": [],
   "source": [
    "#FURTHER DATA PREPERATION \n",
    "unlabeled_data  = labeled_data.drop('machine_status', axis = 1)\n",
    "model_unlabeled_data = unlabeled_data.set_index(\"timestamp\")\n",
    "model_unlabeled_data = model_unlabeled_data.drop(\"index\", axis = 1)\n",
    "#model_df = isolation_forest(unlabled_data[, val)\n",
    "\n",
    "\n"
   ]
  },
  {
   "cell_type": "code",
   "execution_count": 83,
   "metadata": {},
   "outputs": [],
   "source": [
    "IF_Unlabeled_DF = []\n",
    "\n",
    "#ISOLATION FOREST MODEL WITH FIXED CONTAMINATION PARAMETER = 0.1\n",
    "IF_Unlabeled = isolation_forest(model_unlabeled_data,0.1)\n",
    "IF_Unlabeled_DF.append(IF_Unlabeled)\n",
    "model_unlabeled_data = model_unlabeled_data.drop(['scores', 'anomaly', 'contamination'], axis = 1)"
   ]
  },
  {
   "cell_type": "code",
   "execution_count": 84,
   "metadata": {},
   "outputs": [],
   "source": [
    "LOF_Unlabeled_DF = []\n",
    "\n",
    "#LOCAL OUTLIER FACTOR WITH FIXED CONTAMINATION PARAMETER= 0.1 \n",
    "LOF_Unlabeled = local_outlier_factor(model_unlabeled_data, vals = 0.1)\n",
    "\n",
    "\n",
    "LOF_Unlabeled_DF.append(LOF_Unlabeled)\n",
    "model_unlabeled_data = model_unlabeled_data.drop([ 'anomaly', 'contamination'], axis = 1)"
   ]
  },
  {
   "cell_type": "code",
   "execution_count": 90,
   "metadata": {},
   "outputs": [
    {
     "data": {
      "text/plain": [
       "timestamp\n",
       "2018-04-01 00:00:00    1\n",
       "2018-04-01 00:01:00    1\n",
       "2018-04-01 00:02:00    1\n",
       "2018-04-01 00:03:00    1\n",
       "2018-04-01 00:04:00    1\n",
       "                      ..\n",
       "2018-05-03 07:39:00    1\n",
       "2018-05-03 07:40:00    1\n",
       "2018-05-03 07:41:00    1\n",
       "2018-05-03 07:42:00    1\n",
       "2018-05-03 07:42:00    1\n",
       "Name: anomaly, Length: 46544, dtype: int32"
      ]
     },
     "execution_count": 90,
     "metadata": {},
     "output_type": "execute_result"
    }
   ],
   "source": [
    "#MODEL ACCURACY \n",
    "\n",
    "IF_Prediction = IF_Unlabeled_DF[0]['anomaly']\n",
    "LOF_Prediction = LOF_Unlabeled_DF[0]['anomaly']\n",
    "Data_Actual = labled_data['machine_status']\n",
    "\n"
   ]
  },
  {
   "cell_type": "code",
   "execution_count": 96,
   "metadata": {},
   "outputs": [
    {
     "name": "stdout",
     "output_type": "stream",
     "text": [
      "Confusion Matrix for Isolation Forest Model on Labeled Data Set\n"
     ]
    },
    {
     "data": {
      "image/png": "[encoded data removed]",
      "text/plain": [
       "<Figure size 432x288 with 2 Axes>"
      ]
     },
     "metadata": {
      "needs_background": "light"
     },
     "output_type": "display_data"
    }
   ],
   "source": [
    "def plot_confusion_matrix(confusion_matrix, class_names):\n",
    "    #cf_matrix = confusion_matrix(actual, prediction)\n",
    "    df_cm  = pd.DataFrame(confusion_matrix, index = class_names, columns = class_names)\n",
    "    \n",
    "    \n",
    "    sns.heatmap(df_cm, annot = True, fmt = \"d\")\n",
    "    plt.ylabel(\"Actual\")\n",
    "    plt.xlabel(\"Prediction\")\n",
    "    \n",
    "    \n",
    "\n",
    "print(\"Confusion Matrix for Isolation Forest Model on Labeled Data Set\")\n",
    "cf_matrix = confusion_matrix(Data_Actual, IF_Prediction)\n",
    "plot_confusion_matrix(cf_matrix, [\"Normal\", \"Anomaly\"])\n",
    "\n",
    "\n"
   ]
  },
  {
   "cell_type": "code",
   "execution_count": 95,
   "metadata": {
    "scrolled": true
   },
   "outputs": [
    {
     "name": "stdout",
     "output_type": "stream",
     "text": [
      "Confusion Matrix for Local Outlier Factor Model on Labeled Data Set\n"
     ]
    },
    {
     "data": {
      "image/png": "[encoded data removed]",
      "text/plain": [
       "<Figure size 432x288 with 2 Axes>"
      ]
     },
     "metadata": {
      "needs_background": "light"
     },
     "output_type": "display_data"
    }
   ],
   "source": [
    "print(\"Confusion Matrix for Local Outlier Factor Model on Labeled Data Set\")\n",
    "cf_matrix = confusion_matrix(Data_Actual, LOF_Prediction)\n",
    "plot_confusion_matrix(cf_matrix,[\"Normal\", \"Anomaly\"])"
   ]
  },
  {
   "cell_type": "markdown",
   "metadata": {},
   "source": [
    "The confusion matrix shows that the isolation forest model and local outlier factor model had a very high true positive rate ( actual was anomaly, prediction was anomaly), the local outlier factor model being slightly more accurate. However, there is clearly a large portion of false positives and false negatives. A possible explanation for this could be classifying \"recovering\" points as anomalous, leading to a discrepency between what the model views as anomalous and what the data set indicates. "
   ]
  },
  {
   "cell_type": "code",
   "execution_count": null,
   "metadata": {},
   "outputs": [],
   "source": []
  }
 ],
 "metadata": {
  "colab": {
   "authorship_tag": "ABX9TyOCHBPc34RwAbi3SgSM7nUH",
   "name": "unsupervised_run.ipynb",
   "provenance": []
  },
  "kernelspec": {
   "display_name": "Python 3",
   "language": "python",
   "name": "python3"
  },
  "language_info": {
   "codemirror_mode": {
    "name": "ipython",
    "version": 3
   },
   "file_extension": ".py",
   "mimetype": "text/x-python",
   "name": "python",
   "nbconvert_exporter": "python",
   "pygments_lexer": "ipython3",
   "version": "3.8.8"
  }
 },
 "nbformat": 4,
 "nbformat_minor": 1
}
